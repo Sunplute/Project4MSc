{
 "cells": [
  {
   "cell_type": "code",
   "execution_count": 1,
   "metadata": {},
   "outputs": [],
   "source": [
    "import pandas as pd\n",
    "import numpy as np\n",
    "\n",
    "# text preprocessing\n",
    "from nltk.tokenize import word_tokenize\n",
    "import re\n",
    "\n",
    "# plots and metrics\n",
    "import matplotlib.pyplot as plt\n",
    "from sklearn.metrics import accuracy_score, f1_score, confusion_matrix\n",
    "\n",
    "# preparing input to our model\n",
    "from keras.preprocessing.text import Tokenizer\n",
    "from keras.preprocessing.sequence import pad_sequences\n",
    "from tensorflow.keras.utils import to_categorical\n",
    "\n",
    "# keras layers\n",
    "from keras.models import Sequential\n",
    "from keras.layers import Embedding, Bidirectional, LSTM, GRU, Dense\n",
    "\n",
    "from datasets import load_dataset"
   ]
  },
  {
   "cell_type": "markdown",
   "metadata": {},
   "source": [
    "## 1. import data"
   ]
  },
  {
   "cell_type": "code",
   "execution_count": 2,
   "metadata": {},
   "outputs": [],
   "source": [
    "# Number of labels: negtive, neutral, positive\n",
    "num_classes = 3\n",
    "\n",
    "# Number of dimensions for word embedding\n",
    "embed_num_dims = 300\n",
    "\n",
    "# Max input length (max number of words) \n",
    "max_seq_len = 500\n",
    "\n",
    "class_names = ['negtive', 'neutral', 'positive']"
   ]
  },
  {
   "cell_type": "code",
   "execution_count": 3,
   "metadata": {},
   "outputs": [
    {
     "name": "stderr",
     "output_type": "stream",
     "text": [
      "Found cached dataset tweet_eval (C:/Users/Splute/.cache/huggingface/datasets/tweet_eval/sentiment/1.1.0/12aee5282b8784f3e95459466db4cdf45c6bf49719c25cdb0743d71ed0410343)\n"
     ]
    },
    {
     "data": {
      "application/vnd.jupyter.widget-view+json": {
       "model_id": "1398cea574a148ed845584f50aa30dad",
       "version_major": 2,
       "version_minor": 0
      },
      "text/plain": [
       "  0%|          | 0/3 [00:00<?, ?it/s]"
      ]
     },
     "metadata": {},
     "output_type": "display_data"
    },
    {
     "data": {
      "text/plain": [
       "DatasetDict({\n",
       "    train: Dataset({\n",
       "        features: ['text', 'label'],\n",
       "        num_rows: 45615\n",
       "    })\n",
       "    test: Dataset({\n",
       "        features: ['text', 'label'],\n",
       "        num_rows: 12284\n",
       "    })\n",
       "    validation: Dataset({\n",
       "        features: ['text', 'label'],\n",
       "        num_rows: 2000\n",
       "    })\n",
       "})"
      ]
     },
     "execution_count": 3,
     "metadata": {},
     "output_type": "execute_result"
    }
   ],
   "source": [
    "# download dataset from hungging face\n",
    "dataset = load_dataset(\"tweet_eval\", \"sentiment\")\n",
    "dataset"
   ]
  },
  {
   "cell_type": "code",
   "execution_count": 4,
   "metadata": {},
   "outputs": [
    {
     "name": "stdout",
     "output_type": "stream",
     "text": [
      "size of training set: 12000\n",
      "size of validation set: 2000\n",
      "1    4869\n",
      "2    4819\n",
      "0    4312\n",
      "Name: label, dtype: int64\n"
     ]
    },
    {
     "data": {
      "text/html": [
       "<div>\n",
       "<style scoped>\n",
       "    .dataframe tbody tr th:only-of-type {\n",
       "        vertical-align: middle;\n",
       "    }\n",
       "\n",
       "    .dataframe tbody tr th {\n",
       "        vertical-align: top;\n",
       "    }\n",
       "\n",
       "    .dataframe thead th {\n",
       "        text-align: right;\n",
       "    }\n",
       "</style>\n",
       "<table border=\"1\" class=\"dataframe\">\n",
       "  <thead>\n",
       "    <tr style=\"text-align: right;\">\n",
       "      <th></th>\n",
       "      <th>text</th>\n",
       "      <th>label</th>\n",
       "    </tr>\n",
       "  </thead>\n",
       "  <tbody>\n",
       "    <tr>\n",
       "      <th>0</th>\n",
       "      <td>@user The picture is from Karm al-Zeitoun Mass...</td>\n",
       "      <td>1</td>\n",
       "    </tr>\n",
       "    <tr>\n",
       "      <th>1</th>\n",
       "      <td>\"Tony Blair to speak to Jerusalem FPA tomorrow...</td>\n",
       "      <td>0</td>\n",
       "    </tr>\n",
       "    <tr>\n",
       "      <th>2</th>\n",
       "      <td>3rd time seeing Kendrick and he never fails to...</td>\n",
       "      <td>2</td>\n",
       "    </tr>\n",
       "    <tr>\n",
       "      <th>3</th>\n",
       "      <td>\"Get ur excuses in early lol\\\"\"@MCRisBLUE: Can...</td>\n",
       "      <td>0</td>\n",
       "    </tr>\n",
       "    <tr>\n",
       "      <th>4</th>\n",
       "      <td>can't remember &amp;amp; last Friday night are lik...</td>\n",
       "      <td>1</td>\n",
       "    </tr>\n",
       "    <tr>\n",
       "      <th>5</th>\n",
       "      <td>\"Tomorrow I'm going to watch \"\"Paper Towns\"\". ...</td>\n",
       "      <td>1</td>\n",
       "    </tr>\n",
       "    <tr>\n",
       "      <th>6</th>\n",
       "      <td>I really wish I was going to Ed Sheeran this S...</td>\n",
       "      <td>0</td>\n",
       "    </tr>\n",
       "    <tr>\n",
       "      <th>7</th>\n",
       "      <td>This is a good video clip of Carly Fiorina on ...</td>\n",
       "      <td>2</td>\n",
       "    </tr>\n",
       "    <tr>\n",
       "      <th>8</th>\n",
       "      <td>I miss Zayn I feel like he may have forgotten ...</td>\n",
       "      <td>1</td>\n",
       "    </tr>\n",
       "    <tr>\n",
       "      <th>9</th>\n",
       "      <td>Premier League: West Ham v Man City on Saturda...</td>\n",
       "      <td>2</td>\n",
       "    </tr>\n",
       "  </tbody>\n",
       "</table>\n",
       "</div>"
      ],
      "text/plain": [
       "                                                text  label\n",
       "0  @user The picture is from Karm al-Zeitoun Mass...      1\n",
       "1  \"Tony Blair to speak to Jerusalem FPA tomorrow...      0\n",
       "2  3rd time seeing Kendrick and he never fails to...      2\n",
       "3  \"Get ur excuses in early lol\\\"\"@MCRisBLUE: Can...      0\n",
       "4  can't remember &amp; last Friday night are lik...      1\n",
       "5  \"Tomorrow I'm going to watch \"\"Paper Towns\"\". ...      1\n",
       "6  I really wish I was going to Ed Sheeran this S...      0\n",
       "7  This is a good video clip of Carly Fiorina on ...      2\n",
       "8  I miss Zayn I feel like he may have forgotten ...      1\n",
       "9  Premier League: West Ham v Man City on Saturda...      2"
      ]
     },
     "execution_count": 4,
     "metadata": {},
     "output_type": "execute_result"
    }
   ],
   "source": [
    "data_train = pd.DataFrame(dataset['train'])\n",
    "data_val = pd.DataFrame(dataset['validation'])\n",
    "data_test = pd.DataFrame(dataset['test'])\n",
    "\n",
    "# Balance the amount of each class\n",
    "SEED = 66\n",
    "\n",
    "num_train_per_class = 4000\n",
    "# num_val_per_class = 1000\n",
    "num_test_per_class = 2000\n",
    "balanced_train_data = data_train.groupby('label', group_keys=False).apply(lambda x:\\\n",
    "        x.sample(min(len(x), num_train_per_class), random_state=SEED)).sample(frac=1, random_state=SEED)\n",
    "# balanced_val_data = data_val.groupby('label', group_keys=False).apply(lambda x:\\\n",
    "#         x.sample(min(len(x), num_val_per_class), random_state=SEED)).sample(frac=1, random_state=SEED)\n",
    "balanced_test_data = data_test.groupby('label', group_keys=False).apply(lambda x:\\\n",
    "        x.sample(min(len(x), num_test_per_class), random_state=SEED)).sample(frac=1, random_state=SEED)\n",
    "\n",
    "X_train = balanced_train_data.text.tolist()\n",
    "X_val = data_val.text.tolist()\n",
    "X_test = balanced_test_data.text.tolist()\n",
    "\n",
    "Y_train = balanced_train_data.label.tolist()\n",
    "Y_val = data_val.label.tolist()\n",
    "Y_test = balanced_test_data.label.tolist()\n",
    "\n",
    "data = balanced_train_data.append(data_val, ignore_index=True) # ignore_index makes the index to be continued\n",
    "\n",
    "print('size of training set: %s' % (len(balanced_train_data['text'])))\n",
    "print('size of validation set: %s' % (len(data_val['text'])))\n",
    "print(data.label.value_counts())\n",
    "\n",
    "data.head(10)"
   ]
  },
  {
   "cell_type": "markdown",
   "metadata": {},
   "source": [
    "## 2. Prepare input data\n",
    "To input the data to our NN Model we'll need some preprocessing:\n",
    "1. Tokenize our texts and count unique tokens\n",
    "2. Padding: each input (sentence or text) has to be of the same lenght\n",
    "3. Labels have to be converted to integeres and categorized if need"
   ]
  },
  {
   "cell_type": "code",
   "execution_count": 5,
   "metadata": {},
   "outputs": [],
   "source": [
    "def clean_text(data):\n",
    "    \n",
    "    # 去除URL链接\n",
    "    data = re.sub(r'http\\S+', '', data)\n",
    "    \n",
    "    # 去除@提及的用户名\n",
    "    data = re.sub(r'@\\w+', '', data)\n",
    "    \n",
    "    # 去除#标签\n",
    "    data = re.sub(r'#\\w+', '', data)\n",
    "    \n",
    "    # 去除RT（转发）标识\n",
    "    data = re.sub(r'RT\\s+', '', data)\n",
    "    \n",
    "    # 去除多余的空格和换行符\n",
    "    data = re.sub(r'\\s+', ' ', data).strip()\n",
    "    \n",
    "    # tekenization using nltk / 分词\n",
    "    data = word_tokenize(data)\n",
    "    \n",
    "    return data"
   ]
  },
  {
   "cell_type": "code",
   "execution_count": 6,
   "metadata": {},
   "outputs": [],
   "source": [
    "texts = [' '.join(clean_text(text)) for text in data.text]\n",
    "\n",
    "texts_train = [' '.join(clean_text(text)) for text in X_train] #恢复成完整的句子\n",
    "texts_val = [' '.join(clean_text(text)) for text in X_val]\n",
    "texts_test = [' '.join(clean_text(text)) for text in X_test]"
   ]
  },
  {
   "cell_type": "code",
   "execution_count": 7,
   "metadata": {},
   "outputs": [
    {
     "name": "stdout",
     "output_type": "stream",
     "text": [
      "`` Tony Blair to speak to Jerusalem FPA tomorrow ( Friday ) . Now that he is no longer Quartet rep , will he speak his mind on the Conflict ? ''\n"
     ]
    }
   ],
   "source": [
    "print(texts_train[1])\n"
   ]
  },
  {
   "cell_type": "code",
   "execution_count": 8,
   "metadata": {},
   "outputs": [
    {
     "name": "stdout",
     "output_type": "stream",
     "text": [
      "Number of unique words: 20767\n"
     ]
    }
   ],
   "source": [
    "# Tokenization + fitting using keras\n",
    "tokenizer = Tokenizer()\n",
    "tokenizer.fit_on_texts(texts)\n",
    "\n",
    "sequence_train = tokenizer.texts_to_sequences(texts_train) #将每句话转换为数字，每个数字代表一个单词\n",
    "sequence_val = tokenizer.texts_to_sequences(texts_val)\n",
    "sequence_test = tokenizer.texts_to_sequences(texts_test)\n",
    "\n",
    "index_of_words = tokenizer.word_index\n",
    "\n",
    "# vacab size is number of unique words + reserved 0 index for padding\n",
    "vocab_size = len(index_of_words) + 1\n",
    "\n",
    "print('Number of unique words: {}'.format(len(index_of_words)))"
   ]
  },
  {
   "cell_type": "markdown",
   "metadata": {},
   "source": [
    "**Padding** -> each input has the same length\n",
    "\n",
    "We defined maximun number of words for our texts and input size to our model has to be fixed - padding with zeros to keep the same input lenght"
   ]
  },
  {
   "cell_type": "code",
   "execution_count": 9,
   "metadata": {},
   "outputs": [
    {
     "data": {
      "text/plain": [
       "array([[   0,    0,    0, ...,    8, 2151, 2670],\n",
       "       [   0,    0,    0, ...,    1, 3206,    3],\n",
       "       [   0,    0,    0, ..., 2889,    2, 9890],\n",
       "       ...,\n",
       "       [   0,    0,    0, ...,   46,  477, 3641],\n",
       "       [   0,    0,    0, ...,   20,  207,  149],\n",
       "       [   0,    0,    0, ..., 1526, 1831,    3]])"
      ]
     },
     "execution_count": 9,
     "metadata": {},
     "output_type": "execute_result"
    }
   ],
   "source": [
    "X_train_pad = pad_sequences(sequence_train, maxlen = max_seq_len )\n",
    "X_val_pad = pad_sequences(sequence_val, maxlen = max_seq_len )\n",
    "X_test_pad = pad_sequences(sequence_test, maxlen = max_seq_len )\n",
    "\n",
    "X_train_pad"
   ]
  },
  {
   "cell_type": "code",
   "execution_count": 10,
   "metadata": {},
   "outputs": [
    {
     "data": {
      "text/plain": [
       "array([[0., 1., 0.],\n",
       "       [1., 0., 0.],\n",
       "       [0., 0., 1.],\n",
       "       ...,\n",
       "       [0., 0., 1.],\n",
       "       [0., 0., 1.],\n",
       "       [0., 0., 1.]], dtype=float32)"
      ]
     },
     "execution_count": 10,
     "metadata": {},
     "output_type": "execute_result"
    }
   ],
   "source": [
    "y_train = to_categorical(Y_train)\n",
    "y_val = to_categorical(Y_val)\n",
    "y_test = to_categorical(Y_test)\n",
    "\n",
    "y_train"
   ]
  },
  {
   "cell_type": "markdown",
   "metadata": {},
   "source": [
    "## 2. Import pretrained word vectors"
   ]
  },
  {
   "cell_type": "code",
   "execution_count": 11,
   "metadata": {},
   "outputs": [],
   "source": [
    "def create_embedding_matrix(filepath, word_index, embedding_dim):\n",
    "    vocab_size = len(word_index) + 1  # Adding again 1 because of reserved 0 index\n",
    "    embedding_matrix = np.zeros((vocab_size, embedding_dim))\n",
    "    with open(filepath) as f:\n",
    "        for line in f:\n",
    "            word, *vector = line.split()\n",
    "            if word in word_index:\n",
    "                idx = word_index[word] \n",
    "                embedding_matrix[idx] = np.array(\n",
    "                    vector, dtype=np.float32)[:embedding_dim]\n",
    "    return embedding_matrix"
   ]
  },
  {
   "cell_type": "markdown",
   "metadata": {},
   "source": [
    "You can download and import any pre-trained word embeddings. I will use 300 dimentional w2v pre-trained on wikipedia articles. Download fast text english vectors: https://fasttext.cc/docs/en/english-vectors.html"
   ]
  },
  {
   "cell_type": "code",
   "execution_count": 12,
   "metadata": {},
   "outputs": [
    {
     "name": "stdout",
     "output_type": "stream",
     "text": [
      "Founded word vectors\n"
     ]
    }
   ],
   "source": [
    "import urllib.request\n",
    "import zipfile\n",
    "import os\n",
    "\n",
    "fname = '../embeddings/wiki-news-300d-1M.vec'\n",
    "\n",
    "if not os.path.isfile(fname):\n",
    "    print('Downloading word vectors...')\n",
    "    urllib.request.urlretrieve('https://dl.fbaipublicfiles.com/fasttext/vectors-english/wiki-news-300d-1M.vec.zip',\n",
    "                              'wiki-news-300d-1M.vec.zip')\n",
    "    print('Unzipping...')\n",
    "    with zipfile.ZipFile('wiki-news-300d-1M.vec.zip', 'r') as zip_ref:\n",
    "        zip_ref.extractall('embeddings')\n",
    "    print('done.')\n",
    "    \n",
    "    os.remove('wiki-news-300d-1M.vec.zip')\n",
    "\n",
    "elif os.path.isfile(fname):\n",
    "    print('Founded word vectors')"
   ]
  },
  {
   "cell_type": "code",
   "execution_count": 13,
   "metadata": {},
   "outputs": [
    {
     "data": {
      "text/plain": [
       "(20768, 300)"
      ]
     },
     "execution_count": 13,
     "metadata": {},
     "output_type": "execute_result"
    }
   ],
   "source": [
    "embedd_matrix = create_embedding_matrix(fname, index_of_words, embed_num_dims)\n",
    "embedd_matrix.shape"
   ]
  },
  {
   "cell_type": "code",
   "execution_count": 14,
   "metadata": {},
   "outputs": [
    {
     "name": "stdout",
     "output_type": "stream",
     "text": [
      "Words found in wiki vocab: 17047\n",
      "New words found: 3720\n"
     ]
    }
   ],
   "source": [
    "# Inspect unseen words\n",
    "new_words = 0\n",
    "\n",
    "for word in index_of_words:\n",
    "    entry = embedd_matrix[index_of_words[word]]\n",
    "    if all(v == 0 for v in entry):\n",
    "        new_words = new_words + 1\n",
    "\n",
    "print('Words found in wiki vocab: ' + str(len(index_of_words) - new_words))\n",
    "print('New words found: ' + str(new_words))"
   ]
  },
  {
   "cell_type": "markdown",
   "metadata": {},
   "source": [
    "## 3. Create LSTM Pipeline"
   ]
  },
  {
   "cell_type": "markdown",
   "metadata": {},
   "source": [
    "### Embedding Layer\n",
    "\n",
    "We will use pre-trained word vectors. We could also train our own embedding layer if we don't specify the pre-trained weights \n",
    "\n",
    "* **vocabulary size:** the maximum number of terms that are used to represent a text: e.g. if we set the size of the “vocabulary” to 1000 only the first thousand terms most frequent in the corpus will be considered (and the other terms will be ignored)\n",
    "* **the maximum length:** of the texts (which must all be the same length)\n",
    "* **size of embeddings:** basically, the more dimensions we have the more precise the semantics will be, but beyond a certain threshold we will lose the ability of the embedding to define a coherent and general enough semantic area\n",
    "* **trainable:** True if you want to fine-tune them while training\n"
   ]
  },
  {
   "cell_type": "code",
   "execution_count": 15,
   "metadata": {},
   "outputs": [],
   "source": [
    "# Embedding layer before the actaul BLSTM \n",
    "embedd_layer = Embedding(vocab_size,\n",
    "                         embed_num_dims,\n",
    "                         input_length = max_seq_len,\n",
    "                         weights = [embedd_matrix],\n",
    "                         trainable=False)\n",
    "                        #  trainable=True)"
   ]
  },
  {
   "cell_type": "markdown",
   "metadata": {},
   "source": [
    "You can change GRU to LSTM. The results will be very similar but LSTM might take longer to train."
   ]
  },
  {
   "cell_type": "code",
   "execution_count": 16,
   "metadata": {},
   "outputs": [],
   "source": [
    "# Parameters\n",
    "gru_output_size = 128\n",
    "bidirectional = True\n",
    "\n",
    "# Embedding Layer, LSTM or biLSTM, Dense, softmax\n",
    "model = Sequential()\n",
    "model.add(embedd_layer)\n",
    "\n",
    "if bidirectional:\n",
    "    model.add(Bidirectional(GRU(units=gru_output_size,\n",
    "                              dropout=0.2,\n",
    "                              recurrent_dropout=0))) #set recurrent_dropout=0 to use cuDNN\n",
    "                              # recurrent_dropout=0.2)))\n",
    "else:\n",
    "     model.add(GRU(units=gru_output_size,\n",
    "                dropout=0.2, \n",
    "                # recurrent_dropout=0.2))\n",
    "                recurrent_dropout=0))\n",
    "\n",
    "model.add(Dense(num_classes, activation='softmax'))"
   ]
  },
  {
   "cell_type": "code",
   "execution_count": 17,
   "metadata": {},
   "outputs": [
    {
     "name": "stdout",
     "output_type": "stream",
     "text": [
      "Model: \"sequential\"\n",
      "_________________________________________________________________\n",
      "Layer (type)                 Output Shape              Param #   \n",
      "=================================================================\n",
      "embedding (Embedding)        (None, 500, 300)          6230400   \n",
      "_________________________________________________________________\n",
      "bidirectional (Bidirectional (None, 256)               330240    \n",
      "_________________________________________________________________\n",
      "dense (Dense)                (None, 3)                 771       \n",
      "=================================================================\n",
      "Total params: 6,561,411\n",
      "Trainable params: 331,011\n",
      "Non-trainable params: 6,230,400\n",
      "_________________________________________________________________\n"
     ]
    }
   ],
   "source": [
    "model.compile(loss = 'categorical_crossentropy', optimizer = 'adam', metrics = ['accuracy'])\n",
    "model.summary()"
   ]
  },
  {
   "cell_type": "markdown",
   "metadata": {},
   "source": [
    "## 3. Train the Model"
   ]
  },
  {
   "cell_type": "code",
   "execution_count": 18,
   "metadata": {},
   "outputs": [
    {
     "name": "stdout",
     "output_type": "stream",
     "text": [
      "Epoch 1/15\n",
      "188/188 [==============================] - 20s 88ms/step - loss: 0.9560 - accuracy: 0.5207 - val_loss: 0.9566 - val_accuracy: 0.5370\n",
      "Epoch 2/15\n",
      "188/188 [==============================] - 16s 86ms/step - loss: 0.8181 - accuracy: 0.6256 - val_loss: 0.8335 - val_accuracy: 0.5920\n",
      "Epoch 3/15\n",
      "188/188 [==============================] - 16s 87ms/step - loss: 0.7851 - accuracy: 0.6430 - val_loss: 0.8736 - val_accuracy: 0.5885\n",
      "Epoch 4/15\n",
      "188/188 [==============================] - 16s 87ms/step - loss: 0.7631 - accuracy: 0.6602 - val_loss: 0.8576 - val_accuracy: 0.5985\n",
      "Epoch 5/15\n",
      "188/188 [==============================] - 16s 87ms/step - loss: 0.7515 - accuracy: 0.6628 - val_loss: 0.8262 - val_accuracy: 0.6130\n",
      "Epoch 6/15\n",
      "188/188 [==============================] - 16s 87ms/step - loss: 0.7313 - accuracy: 0.6737 - val_loss: 0.8247 - val_accuracy: 0.6075\n",
      "Epoch 7/15\n",
      "188/188 [==============================] - 17s 89ms/step - loss: 0.7174 - accuracy: 0.6820 - val_loss: 0.8751 - val_accuracy: 0.5930\n",
      "Epoch 8/15\n",
      "188/188 [==============================] - 17s 90ms/step - loss: 0.7037 - accuracy: 0.6892 - val_loss: 0.8501 - val_accuracy: 0.6140\n",
      "Epoch 9/15\n",
      "188/188 [==============================] - 17s 90ms/step - loss: 0.6856 - accuracy: 0.6964 - val_loss: 0.8533 - val_accuracy: 0.6110\n",
      "Epoch 10/15\n",
      "188/188 [==============================] - 17s 89ms/step - loss: 0.6656 - accuracy: 0.7076 - val_loss: 0.8941 - val_accuracy: 0.5975\n",
      "Epoch 11/15\n",
      "188/188 [==============================] - 17s 90ms/step - loss: 0.6530 - accuracy: 0.7146 - val_loss: 0.8408 - val_accuracy: 0.6095\n",
      "Epoch 12/15\n",
      "188/188 [==============================] - 17s 90ms/step - loss: 0.6252 - accuracy: 0.7309 - val_loss: 0.8717 - val_accuracy: 0.6095\n",
      "Epoch 13/15\n",
      "188/188 [==============================] - 17s 89ms/step - loss: 0.6120 - accuracy: 0.7380 - val_loss: 0.9009 - val_accuracy: 0.5985\n",
      "Epoch 14/15\n",
      "188/188 [==============================] - 17s 89ms/step - loss: 0.5893 - accuracy: 0.7447 - val_loss: 0.8584 - val_accuracy: 0.6125\n",
      "Epoch 15/15\n",
      "188/188 [==============================] - 17s 92ms/step - loss: 0.5617 - accuracy: 0.7609 - val_loss: 0.8967 - val_accuracy: 0.6175\n"
     ]
    }
   ],
   "source": [
    "batch_size = 64\n",
    "epochs = 15\n",
    "\n",
    "hist = model.fit(X_train_pad, y_train, \n",
    "                 batch_size=batch_size,\n",
    "                 epochs=epochs,\n",
    "                 validation_data=(X_val_pad,y_val))"
   ]
  },
  {
   "cell_type": "code",
   "execution_count": 19,
   "metadata": {},
   "outputs": [
    {
     "data": {
      "image/png": "[encoded data removed]",
      "text/plain": [
       "<Figure size 640x480 with 1 Axes>"
      ]
     },
     "metadata": {},
     "output_type": "display_data"
    },
    {
     "data": {
      "image/png": "[encoded data removed]",
      "text/plain": [
       "<Figure size 640x480 with 1 Axes>"
      ]
     },
     "metadata": {},
     "output_type": "display_data"
    }
   ],
   "source": [
    "#  \"Accuracy\"\n",
    "plt.plot(hist.history['accuracy'])\n",
    "plt.plot(hist.history['val_accuracy'])\n",
    "plt.title('Accuracy')\n",
    "plt.ylabel('accuracy')\n",
    "plt.xlabel('epoch')\n",
    "plt.legend(['train', 'validation'], loc='upper left')\n",
    "plt.show()\n",
    "\n",
    "# \"Loss\"\n",
    "plt.plot(hist.history['loss'])\n",
    "plt.plot(hist.history['val_loss'])\n",
    "plt.title('Loss')\n",
    "plt.ylabel('loss')\n",
    "plt.xlabel('epoch')\n",
    "plt.legend(['train', 'validation'], loc='upper left')\n",
    "plt.show()"
   ]
  },
  {
   "cell_type": "markdown",
   "metadata": {},
   "source": [
    "## 4. Evaluation"
   ]
  },
  {
   "cell_type": "code",
   "execution_count": 20,
   "metadata": {},
   "outputs": [
    {
     "name": "stdout",
     "output_type": "stream",
     "text": [
      "[0.8945523  0.05675348 0.04869427]\n"
     ]
    }
   ],
   "source": [
    "predictions = model.predict(X_test_pad)\n",
    "print(predictions[0])"
   ]
  },
  {
   "cell_type": "code",
   "execution_count": 21,
   "metadata": {},
   "outputs": [
    {
     "name": "stdout",
     "output_type": "stream",
     "text": [
      "[0 0 2 ... 0 0 0]\n"
     ]
    }
   ],
   "source": [
    "predictions = np.argmax(predictions, axis=1)\n",
    "print(predictions)\n"
   ]
  },
  {
   "cell_type": "code",
   "execution_count": 22,
   "metadata": {},
   "outputs": [
    {
     "name": "stdout",
     "output_type": "stream",
     "text": [
      "Accuracy: 62.00%\n",
      "\n",
      "F1 Score: 62.07\n"
     ]
    }
   ],
   "source": [
    "print(\"Accuracy: {:.2f}%\".format(accuracy_score(Y_test, predictions) * 100))\n",
    "print(\"\\nF1 Score: {:.2f}\".format(f1_score(Y_test, predictions, average='weighted') * 100))"
   ]
  },
  {
   "cell_type": "code",
   "execution_count": 23,
   "metadata": {},
   "outputs": [
    {
     "name": "stdout",
     "output_type": "stream",
     "text": [
      "Message: To those who are so excited about Trump not taking the 400K salary -Let me post this for you, again:\n",
      "Predicted: 2\n"
     ]
    }
   ],
   "source": [
    "print('Message: {}\\nPredicted: {}'.format(X_test[5], predictions[5]))"
   ]
  },
  {
   "cell_type": "code",
   "execution_count": 50,
   "metadata": {},
   "outputs": [],
   "source": [
    "# creates a HDF5 file 'my_model.h5'\n",
    "model.save('../models/biLSTM_tweet.h5')"
   ]
  },
  {
   "cell_type": "code",
   "execution_count": null,
   "metadata": {},
   "outputs": [],
   "source": [
    "# reload the model\n",
    "from keras.models import load_model\n",
    "predictor = load_model('models/biLSTM_w2v.h5')"
   ]
  },
  {
   "cell_type": "markdown",
   "metadata": {},
   "source": [
    "## The End"
   ]
  }
 ],
 "metadata": {
  "kernelspec": {
   "display_name": "tf2",
   "language": "python",
   "name": "python3"
  },
  "language_info": {
   "codemirror_mode": {
    "name": "ipython",
    "version": 3
   },
   "file_extension": ".py",
   "mimetype": "text/x-python",
   "name": "python",
   "nbconvert_exporter": "python",
   "pygments_lexer": "ipython3",
   "version": "3.8.16"
  },
  "orig_nbformat": 4
 },
 "nbformat": 4,
 "nbformat_minor": 2
}
